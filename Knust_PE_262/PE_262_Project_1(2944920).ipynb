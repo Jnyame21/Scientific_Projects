{
 "cells": [
  {
   "cell_type": "markdown",
   "id": "42704456",
   "metadata": {},
   "source": [
    "## Algorithm\n",
    "\n",
    "### Importing necessary libraries\n",
    "### Declaring the variables\n",
    "### Necessary computations\n",
    "### Declaring two variable for storing the laminar and turbulent flow values\n",
    "### Evaluating the flow regime and calculating the hydrodynamic entry length\n",
    "### Ploting the various data"
   ]
  },
  {
   "cell_type": "code",
   "execution_count": 29,
   "id": "a7361738",
   "metadata": {},
   "outputs": [
    {
     "name": "stdout",
     "output_type": "stream",
     "text": [
      "200\n",
      "128\n",
      "72\n"
     ]
    },
    {
     "ename": "ValueError",
     "evalue": "x and y must have same first dimension, but have shapes (200,) and (128,)",
     "output_type": "error",
     "traceback": [
      "\u001b[1;31m---------------------------------------------------------------------------\u001b[0m",
      "\u001b[1;31mValueError\u001b[0m                                Traceback (most recent call last)",
      "Input \u001b[1;32mIn [29]\u001b[0m, in \u001b[0;36m<cell line: 33>\u001b[1;34m()\u001b[0m\n\u001b[0;32m     30\u001b[0m \u001b[38;5;28mprint\u001b[39m(c_tub) \n\u001b[0;32m     31\u001b[0m \u001b[38;5;66;03m# Plotting the data for only laminar flow    \u001b[39;00m\n\u001b[1;32m---> 33\u001b[0m \u001b[43mplt\u001b[49m\u001b[38;5;241;43m.\u001b[39;49m\u001b[43mplot\u001b[49m\u001b[43m(\u001b[49m\u001b[43mAvg\u001b[49m\u001b[43m,\u001b[49m\u001b[43m \u001b[49m\u001b[43mLh_lam\u001b[49m\u001b[43m,\u001b[49m\u001b[43mcolor\u001b[49m\u001b[38;5;241;43m=\u001b[39;49m\u001b[38;5;124;43m'\u001b[39;49m\u001b[38;5;124;43mr\u001b[39;49m\u001b[38;5;124;43m'\u001b[39;49m\u001b[43m)\u001b[49m\n\u001b[0;32m     34\u001b[0m plt\u001b[38;5;241m.\u001b[39mxlabel(\u001b[38;5;124m\"\u001b[39m\u001b[38;5;124mAverage velocity\u001b[39m\u001b[38;5;124m\"\u001b[39m)\n\u001b[0;32m     35\u001b[0m plt\u001b[38;5;241m.\u001b[39mylabel(\u001b[38;5;124m\"\u001b[39m\u001b[38;5;124mHydrodynamic entry length\u001b[39m\u001b[38;5;124m\"\u001b[39m)\n",
      "File \u001b[1;32m~\\anaconda3\\lib\\site-packages\\matplotlib\\pyplot.py:2757\u001b[0m, in \u001b[0;36mplot\u001b[1;34m(scalex, scaley, data, *args, **kwargs)\u001b[0m\n\u001b[0;32m   2755\u001b[0m \u001b[38;5;129m@_copy_docstring_and_deprecators\u001b[39m(Axes\u001b[38;5;241m.\u001b[39mplot)\n\u001b[0;32m   2756\u001b[0m \u001b[38;5;28;01mdef\u001b[39;00m \u001b[38;5;21mplot\u001b[39m(\u001b[38;5;241m*\u001b[39margs, scalex\u001b[38;5;241m=\u001b[39m\u001b[38;5;28;01mTrue\u001b[39;00m, scaley\u001b[38;5;241m=\u001b[39m\u001b[38;5;28;01mTrue\u001b[39;00m, data\u001b[38;5;241m=\u001b[39m\u001b[38;5;28;01mNone\u001b[39;00m, \u001b[38;5;241m*\u001b[39m\u001b[38;5;241m*\u001b[39mkwargs):\n\u001b[1;32m-> 2757\u001b[0m     \u001b[38;5;28;01mreturn\u001b[39;00m gca()\u001b[38;5;241m.\u001b[39mplot(\n\u001b[0;32m   2758\u001b[0m         \u001b[38;5;241m*\u001b[39margs, scalex\u001b[38;5;241m=\u001b[39mscalex, scaley\u001b[38;5;241m=\u001b[39mscaley,\n\u001b[0;32m   2759\u001b[0m         \u001b[38;5;241m*\u001b[39m\u001b[38;5;241m*\u001b[39m({\u001b[38;5;124m\"\u001b[39m\u001b[38;5;124mdata\u001b[39m\u001b[38;5;124m\"\u001b[39m: data} \u001b[38;5;28;01mif\u001b[39;00m data \u001b[38;5;129;01mis\u001b[39;00m \u001b[38;5;129;01mnot\u001b[39;00m \u001b[38;5;28;01mNone\u001b[39;00m \u001b[38;5;28;01melse\u001b[39;00m {}), \u001b[38;5;241m*\u001b[39m\u001b[38;5;241m*\u001b[39mkwargs)\n",
      "File \u001b[1;32m~\\anaconda3\\lib\\site-packages\\matplotlib\\axes\\_axes.py:1632\u001b[0m, in \u001b[0;36mAxes.plot\u001b[1;34m(self, scalex, scaley, data, *args, **kwargs)\u001b[0m\n\u001b[0;32m   1390\u001b[0m \u001b[38;5;124;03m\"\"\"\u001b[39;00m\n\u001b[0;32m   1391\u001b[0m \u001b[38;5;124;03mPlot y versus x as lines and/or markers.\u001b[39;00m\n\u001b[0;32m   1392\u001b[0m \n\u001b[1;32m   (...)\u001b[0m\n\u001b[0;32m   1629\u001b[0m \u001b[38;5;124;03m(``'green'``) or hex strings (``'#008000'``).\u001b[39;00m\n\u001b[0;32m   1630\u001b[0m \u001b[38;5;124;03m\"\"\"\u001b[39;00m\n\u001b[0;32m   1631\u001b[0m kwargs \u001b[38;5;241m=\u001b[39m cbook\u001b[38;5;241m.\u001b[39mnormalize_kwargs(kwargs, mlines\u001b[38;5;241m.\u001b[39mLine2D)\n\u001b[1;32m-> 1632\u001b[0m lines \u001b[38;5;241m=\u001b[39m [\u001b[38;5;241m*\u001b[39m\u001b[38;5;28mself\u001b[39m\u001b[38;5;241m.\u001b[39m_get_lines(\u001b[38;5;241m*\u001b[39margs, data\u001b[38;5;241m=\u001b[39mdata, \u001b[38;5;241m*\u001b[39m\u001b[38;5;241m*\u001b[39mkwargs)]\n\u001b[0;32m   1633\u001b[0m \u001b[38;5;28;01mfor\u001b[39;00m line \u001b[38;5;129;01min\u001b[39;00m lines:\n\u001b[0;32m   1634\u001b[0m     \u001b[38;5;28mself\u001b[39m\u001b[38;5;241m.\u001b[39madd_line(line)\n",
      "File \u001b[1;32m~\\anaconda3\\lib\\site-packages\\matplotlib\\axes\\_base.py:312\u001b[0m, in \u001b[0;36m_process_plot_var_args.__call__\u001b[1;34m(self, data, *args, **kwargs)\u001b[0m\n\u001b[0;32m    310\u001b[0m     this \u001b[38;5;241m+\u001b[39m\u001b[38;5;241m=\u001b[39m args[\u001b[38;5;241m0\u001b[39m],\n\u001b[0;32m    311\u001b[0m     args \u001b[38;5;241m=\u001b[39m args[\u001b[38;5;241m1\u001b[39m:]\n\u001b[1;32m--> 312\u001b[0m \u001b[38;5;28;01myield from\u001b[39;00m \u001b[38;5;28;43mself\u001b[39;49m\u001b[38;5;241;43m.\u001b[39;49m\u001b[43m_plot_args\u001b[49m\u001b[43m(\u001b[49m\u001b[43mthis\u001b[49m\u001b[43m,\u001b[49m\u001b[43m \u001b[49m\u001b[43mkwargs\u001b[49m\u001b[43m)\u001b[49m\n",
      "File \u001b[1;32m~\\anaconda3\\lib\\site-packages\\matplotlib\\axes\\_base.py:498\u001b[0m, in \u001b[0;36m_process_plot_var_args._plot_args\u001b[1;34m(self, tup, kwargs, return_kwargs)\u001b[0m\n\u001b[0;32m    495\u001b[0m     \u001b[38;5;28mself\u001b[39m\u001b[38;5;241m.\u001b[39maxes\u001b[38;5;241m.\u001b[39myaxis\u001b[38;5;241m.\u001b[39mupdate_units(y)\n\u001b[0;32m    497\u001b[0m \u001b[38;5;28;01mif\u001b[39;00m x\u001b[38;5;241m.\u001b[39mshape[\u001b[38;5;241m0\u001b[39m] \u001b[38;5;241m!=\u001b[39m y\u001b[38;5;241m.\u001b[39mshape[\u001b[38;5;241m0\u001b[39m]:\n\u001b[1;32m--> 498\u001b[0m     \u001b[38;5;28;01mraise\u001b[39;00m \u001b[38;5;167;01mValueError\u001b[39;00m(\u001b[38;5;124mf\u001b[39m\u001b[38;5;124m\"\u001b[39m\u001b[38;5;124mx and y must have same first dimension, but \u001b[39m\u001b[38;5;124m\"\u001b[39m\n\u001b[0;32m    499\u001b[0m                      \u001b[38;5;124mf\u001b[39m\u001b[38;5;124m\"\u001b[39m\u001b[38;5;124mhave shapes \u001b[39m\u001b[38;5;132;01m{\u001b[39;00mx\u001b[38;5;241m.\u001b[39mshape\u001b[38;5;132;01m}\u001b[39;00m\u001b[38;5;124m and \u001b[39m\u001b[38;5;132;01m{\u001b[39;00my\u001b[38;5;241m.\u001b[39mshape\u001b[38;5;132;01m}\u001b[39;00m\u001b[38;5;124m\"\u001b[39m)\n\u001b[0;32m    500\u001b[0m \u001b[38;5;28;01mif\u001b[39;00m x\u001b[38;5;241m.\u001b[39mndim \u001b[38;5;241m>\u001b[39m \u001b[38;5;241m2\u001b[39m \u001b[38;5;129;01mor\u001b[39;00m y\u001b[38;5;241m.\u001b[39mndim \u001b[38;5;241m>\u001b[39m \u001b[38;5;241m2\u001b[39m:\n\u001b[0;32m    501\u001b[0m     \u001b[38;5;28;01mraise\u001b[39;00m \u001b[38;5;167;01mValueError\u001b[39;00m(\u001b[38;5;124mf\u001b[39m\u001b[38;5;124m\"\u001b[39m\u001b[38;5;124mx and y can be no greater than 2D, but have \u001b[39m\u001b[38;5;124m\"\u001b[39m\n\u001b[0;32m    502\u001b[0m                      \u001b[38;5;124mf\u001b[39m\u001b[38;5;124m\"\u001b[39m\u001b[38;5;124mshapes \u001b[39m\u001b[38;5;132;01m{\u001b[39;00mx\u001b[38;5;241m.\u001b[39mshape\u001b[38;5;132;01m}\u001b[39;00m\u001b[38;5;124m and \u001b[39m\u001b[38;5;132;01m{\u001b[39;00my\u001b[38;5;241m.\u001b[39mshape\u001b[38;5;132;01m}\u001b[39;00m\u001b[38;5;124m\"\u001b[39m)\n",
      "\u001b[1;31mValueError\u001b[0m: x and y must have same first dimension, but have shapes (200,) and (128,)"
     ]
    },
    {
     "data": {
      "image/png": "[encoded data removed]",
      "text/plain": [
       "<Figure size 432x288 with 1 Axes>"
      ]
     },
     "metadata": {
      "needs_background": "light"
     },
     "output_type": "display_data"
    }
   ],
   "source": [
    "import matplotlib.pyplot as plt\n",
    "import numpy as np\n",
    "\n",
    "D = 16.3 # Diameter of the pipe in meters\n",
    "Rho = 1000 # Density of water in kilogram per cubic meters\n",
    "u = 0.001  # Viscosity of water\n",
    "Avg = np.arange(0.000001,0.0002,0.000001) # Average velocity values\n",
    "Re = (Rho*Avg*D)/u # Reynold number\n",
    "Lh_lam = []  # Laminar flow\n",
    "Lh_tub = []  # Turbulent flow\n",
    "# Using the for loop to iterate through the Reynold number values\n",
    "c_re=0\n",
    "c_lam=0\n",
    "c_tub=0\n",
    "for i in Re:\n",
    "    c_re+=1\n",
    "    if i <= 2100:                       \n",
    "        lam = 0.05*i*D\n",
    "        c_lam+=1\n",
    "        Lh_lam.append(lam)\n",
    "print(c_re)\n",
    "print(c_lam)\n",
    "\n",
    "\n",
    "for i in Re: \n",
    "    if i > 2100:\n",
    "        tub = 1.359*D*i**(1/4)\n",
    "        c_tub+=1\n",
    "        Lh_tub.append(tub)\n",
    "print(c_tub) \n",
    "# Plotting the data for only laminar flow    \n",
    "\n",
    "plt.plot(Avg, Lh_lam,color='r')\n",
    "plt.xlabel(\"Average velocity\")\n",
    "plt.ylabel(\"Hydrodynamic entry length\")\n",
    "plt.title(\"LAMINAR FLOW\") # Adding titile to the graph as laminar flow\n",
    "plt.show()\n",
    "\n",
    "# Plotting the data for only turbulent flow\n",
    "\n",
    "plt.plot(Avg, Lh_tub,color='y')\n",
    "plt.xlabel(\"Average velocity\")\n",
    "plt.ylabel(\"Hydrodynamic entry length\")\n",
    "plt.title(\"TURBULENT FLOW\") # Adding title to the graph as turbulent flow\n",
    "plt.show()\n",
    "\n",
    "# Plotting the data for both laminar and turbulent flow\n",
    "\n",
    "plt.plot(Avg,Lh_lam,color='r')\n",
    "plt.plot(Avg,Lh_tub,color='y')\n",
    "plt.xlabel(\"Average velocity\")\n",
    "plt.ylabel(\"Hydrodynamic entry length\")\n",
    "plt.legend(['Laminar','Turbulent'])  #Adding legend to the graph\n",
    "plt.title(\"LAMINAR AND TURBULENT FLOW\") # Adding titile to the graph as laminar and turbulent flow\n",
    "plt.show()"
   ]
  },
  {
   "cell_type": "code",
   "execution_count": 22,
   "id": "d0e3363d",
   "metadata": {},
   "outputs": [
    {
     "name": "stdout",
     "output_type": "stream",
     "text": [
      "[150.00349908017094, 150.29336226579358, 150.58155795590332, 150.86810836299045, 151.15303523808555, 151.43635988373438, 151.7181031665141, 151.99828552911035, 152.27692700197343, 152.55404721457182, 152.8296654062591, 153.1038004367705, 153.37647079636446, 153.64769461562327, 153.9174896749268, 154.18587341361234, 154.45286293883296, 154.71847503412673, 154.9827261677074, 155.24563250048828, 155.50720989384902, 155.76747391715546, 156.0264398550419, 156.28412271446484, 156.5405372315371, 156.7956978781497, 157.0496188683907, 157.3023141647671, 157.55379748423837, 157.80408230406746, 158.05318186749645, 158.30110918925294, 158.54787706089365, 158.79349805599034, 159.03798453516427, 159.2813486509742, 159.52360235266315, 159.76475739076886, 160.0048253216025, 160.2438175116004, 160.48174514155298, 160.71861921071502, 160.9544505408014, 161.18924977987206, 161.4230274061099, 161.65579373149524, 161.88755890538002, 162.1183329179654, 162.34812560368553, 162.57694664450085, 162.80480557310352, 163.03171177603815, 163.2576744967402, 163.48270283849484, 163.7068057673189, 163.92999211476786, 164.1522705806708, 164.37364973579514, 164.5941380244435, 164.81374376698483, 165.03247516232128, 165.25034029029385, 165.46734711402763, 165.68350348221867, 165.89881713136486, 166.11329568794153, 166.3269466705243, 166.53977749185998, 166.75179546088754, 166.9630077847104, 167.17342157052167, 167.38304382748308]\n"
     ]
    }
   ],
   "source": [
    "print(Lh_tub)\n"
   ]
  },
  {
   "cell_type": "code",
   "execution_count": null,
   "id": "bb6f0a3f",
   "metadata": {},
   "outputs": [],
   "source": []
  }
 ],
 "metadata": {
  "kernelspec": {
   "display_name": "Python 3 (ipykernel)",
   "language": "python",
   "name": "python3"
  },
  "language_info": {
   "codemirror_mode": {
    "name": "ipython",
    "version": 3
   },
   "file_extension": ".py",
   "mimetype": "text/x-python",
   "name": "python",
   "nbconvert_exporter": "python",
   "pygments_lexer": "ipython3",
   "version": "3.9.12"
  }
 },
 "nbformat": 4,
 "nbformat_minor": 5
}
