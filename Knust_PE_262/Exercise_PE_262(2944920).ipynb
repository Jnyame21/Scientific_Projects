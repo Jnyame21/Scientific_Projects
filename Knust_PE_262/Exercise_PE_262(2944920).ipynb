{
 "cells": [
  {
   "cell_type": "code",
   "execution_count": 1,
   "metadata": {},
   "outputs": [
    {
     "ename": "KeyboardInterrupt",
     "evalue": "",
     "output_type": "error",
     "traceback": [
      "\u001b[1;31m---------------------------------------------------------------------------\u001b[0m",
      "\u001b[1;31mKeyboardInterrupt\u001b[0m                         Traceback (most recent call last)",
      "Cell \u001b[1;32mIn [1], line 2\u001b[0m\n\u001b[0;32m      1\u001b[0m \u001b[39mwhile\u001b[39;00m \u001b[39mTrue\u001b[39;00m:\n\u001b[1;32m----> 2\u001b[0m     \u001b[39mfor\u001b[39;00m i \u001b[39min\u001b[39;00m \u001b[39mrange\u001b[39m(\u001b[39m1\u001b[39m,\u001b[39m5\u001b[39m):\n\u001b[0;32m      3\u001b[0m         \u001b[39mif\u001b[39;00m i \u001b[39m==\u001b[39m \u001b[39m2\u001b[39m:\n\u001b[0;32m      4\u001b[0m             \u001b[39mbreak\u001b[39;00m\n",
      "\u001b[1;31mKeyboardInterrupt\u001b[0m: "
     ]
    }
   ],
   "source": [
    "while True:\n",
    "    for i in range(1,5):\n",
    "        if i == 2:\n",
    "            break\n",
    "    \n"
   ]
  },
  {
   "cell_type": "code",
   "execution_count": null,
   "metadata": {},
   "outputs": [],
   "source": [
    "import math\n",
    "a = math.cos(90)\n",
    "print(a)\n",
    "math.degrees(math.cos(90))"
   ]
  },
  {
   "cell_type": "code",
   "execution_count": null,
   "metadata": {},
   "outputs": [],
   "source": [
    "name = \"What is your name\"\n",
    "print(name)\n",
    "print(name[0])\n",
    "print(name[0:5])\n",
    "print(name[3:4])"
   ]
  },
  {
   "cell_type": "code",
   "execution_count": null,
   "metadata": {},
   "outputs": [],
   "source": [
    "Team_jn = {\"James\",\"Justice\",\"Odame\",5.5}\n",
    "print(Team_jn)\n",
    "for i in Team_jn:\n",
    "    print(i)\n",
    "Team_jn.add(\"Darko\")\n",
    "print(Team_jn)\n",
    "Team_jn.remove(\"James\")\n",
    "print(Team_jn)\n",
    "Team_au = set(\"Augusco\")\n",
    "print(Team_au)"
   ]
  },
  {
   "cell_type": "code",
   "execution_count": null,
   "metadata": {},
   "outputs": [],
   "source": [
    "Names = {\"Kofi\",\"Ama\",\"Yaw\",\"Yaa\"}\n",
    "print(Names)\n",
    "Names.add(\"Afia\"); print(Names)\n",
    "OS= set(\"Windows\"); print(OS)\n",
    "OS = set([\"Windows\",\"Linux\",\"Kali Linux\"]); print(OS)\n",
    "OS.add(\"Mac\") ; print(OS)"
   ]
  },
  {
   "cell_type": "code",
   "execution_count": null,
   "metadata": {},
   "outputs": [],
   "source": [
    "A=4+6\n",
    "Num= frozenset(\"23\"); print(Num)\n",
    "Num= frozenset([\"24\",\"55\",A]); print(Num)\n",
    "Programming_lang = frozenset([\"Python\",\"C++\"]) ; print(Programming_lang)"
   ]
  },
  {
   "cell_type": "code",
   "execution_count": null,
   "metadata": {},
   "outputs": [],
   "source": [
    "A = 10; B=10.51; C=3.5j; D=\"99\";E=\"55.5\"\n",
    "print(A,B,C,D)\n",
    "print(type(D))\n",
    "print(int(B))\n",
    "print(int(D));D=int(D) ;print(A*D);\n",
    "print(round(B))\n",
    "print(round(D))\n",
    "print(E)\n",
    "print(float(E));E=float(E);print(A+E)\n"
   ]
  },
  {
   "cell_type": "code",
   "execution_count": null,
   "metadata": {},
   "outputs": [],
   "source": [
    "complex = 6+4j;print(complex)\n",
    "print(abs(complex))\n",
    "print(complex.real);A=int(complex.real)\n",
    "print(A)\n",
    "print(complex.imag)\n",
    "complex.real\n",
    "complex.imag\n",
    "print(complex*complex)\n",
    "print(3+complex)\n"
   ]
  },
  {
   "cell_type": "code",
   "execution_count": null,
   "metadata": {},
   "outputs": [],
   "source": [
    "App=['Whatsapp',\"Facebook\",\"Tiktok\",\"Snapchat\"];print(App)\n",
    "Age=[44,55,22,11,99,77];print(Age)\n",
    "print(App[1:2])\n",
    "print(Age[1:2])\n",
    "print(App[0])\n",
    "print(Age[-1])\n",
    "print(App[0:1])\n",
    "print(Age[0:1])"
   ]
  },
  {
   "cell_type": "code",
   "execution_count": null,
   "metadata": {},
   "outputs": [],
   "source": [
    "Dic={22:\"Justice\",\"James\":25,\"Odame\":23};print(Dic)\n",
    "print(Dic[\"James\"])\n",
    "print(Dic[22])\n",
    "print(Dic[\"Odame\"])\n",
    "print(Dic.values())\n",
    "print(Dic.keys())"
   ]
  },
  {
   "cell_type": "code",
   "execution_count": null,
   "metadata": {},
   "outputs": [],
   "source": [
    "tuple= (\"Justice\",22,55,66,77,\"Odame\"); print(tuple)\n",
    "print(tuple[0:2])\n",
    "print(tuple[0:1])"
   ]
  },
  {
   "cell_type": "code",
   "execution_count": null,
   "metadata": {},
   "outputs": [],
   "source": [
    "N= [1,1,7,3,4,5,10,1,8,9,2,];print(N)\n",
    "print(len(N))\n",
    "print(OS)\n",
    "print(len(OS));print(min(OS))"
   ]
  },
  {
   "cell_type": "code",
   "execution_count": null,
   "metadata": {},
   "outputs": [],
   "source": [
    "print(N[-1:-2])\n",
    "print(N[2:])\n",
    "print(N[:3])\n",
    "print(N[-2:])\n",
    "print(N[2:4])"
   ]
  },
  {
   "cell_type": "code",
   "execution_count": null,
   "metadata": {},
   "outputs": [],
   "source": [
    "A=3.5;B=5\n",
    "A==B"
   ]
  },
  {
   "cell_type": "code",
   "execution_count": null,
   "metadata": {},
   "outputs": [],
   "source": [
    "A is not B\n"
   ]
  },
  {
   "cell_type": "code",
   "execution_count": null,
   "metadata": {},
   "outputs": [],
   "source": [
    "A <= B"
   ]
  },
  {
   "cell_type": "code",
   "execution_count": null,
   "metadata": {},
   "outputs": [],
   "source": [
    "# Division\n",
    "A,B,C,D = 3,5.5,10,2\n",
    "print(A/D)\n",
    "print(A/B)\n",
    "print(B/C)\n",
    "print(D/A)\n",
    "print(C/D)"
   ]
  },
  {
   "cell_type": "code",
   "execution_count": null,
   "metadata": {},
   "outputs": [],
   "source": [
    "# Addition\n",
    "A,B,C,D = 3,5.5,10,2\n",
    "print(A+D)\n",
    "print(A+B)\n",
    "print(B+C)\n",
    "print(D+A)\n"
   ]
  },
  {
   "cell_type": "code",
   "execution_count": null,
   "metadata": {},
   "outputs": [],
   "source": [
    "# Multiplication\n",
    "A,B,C,D = 3,5.5,10,2\n",
    "print(A*D)\n",
    "print(A*B)\n",
    "print(B*C)\n",
    "print(D*A)"
   ]
  },
  {
   "cell_type": "code",
   "execution_count": null,
   "metadata": {},
   "outputs": [],
   "source": [
    "# Using the Operator\n",
    "import operator\n",
    "A,B,C,D = 3,5.5,10,2\n",
    "print(operator.add(C,B))\n",
    "print(operator.add(C,D))\n",
    "print(operator.mul(C,B))\n",
    "print(operator.sub(A,B))\n",
    "print(operator.pow(C,D))\n",
    "print(operator.pow(A,D))\n",
    "a= operator.add(A,B);print(a)\n"
   ]
  },
  {
   "cell_type": "code",
   "execution_count": null,
   "metadata": {},
   "outputs": [],
   "source": [
    "\"What is your name \" + \"and where do you live\"\n",
    "M= [2,3,4,5,11,12,13,14,15]\n",
    "print(N+M)"
   ]
  },
  {
   "cell_type": "code",
   "execution_count": null,
   "metadata": {},
   "outputs": [],
   "source": [
    "total= sum(range(0,10));print(total)"
   ]
  },
  {
   "cell_type": "code",
   "execution_count": null,
   "metadata": {},
   "outputs": [],
   "source": [
    "count=0\n",
    "Amount=100\n",
    "while Amount <200:\n",
    "    Amount+=5\n",
    "    count+=1\n",
    "\n",
    "print(count)\n",
    "print(Amount)"
   ]
  },
  {
   "cell_type": "markdown",
   "metadata": {},
   "source": [
    "### Break and Continue in loops"
   ]
  },
  {
   "cell_type": "code",
   "execution_count": null,
   "metadata": {},
   "outputs": [],
   "source": [
    "# Break \n",
    "i=2\n",
    "while i < 10:\n",
    "    print(i)\n",
    "    if i == 8:\n",
    "        print(\"I'm stopping, I can't continue because I'm hungry. If you want me to continue buy me Gob3 3ghc\")\n",
    "        break  # Breaking from the loop\n",
    "    i+=1"
   ]
  },
  {
   "cell_type": "code",
   "execution_count": null,
   "metadata": {},
   "outputs": [],
   "source": [
    "# Continue\n",
    "# Printing prime numbers in the range 1-20\n",
    "for i in range(1,20):\n",
    "    if i%2==0 or i==9 or i==15:\n",
    "        continue\n",
    "    print(i)"
   ]
  },
  {
   "cell_type": "markdown",
   "metadata": {},
   "source": [
    "### Nested loops"
   ]
  },
  {
   "cell_type": "code",
   "execution_count": null,
   "metadata": {},
   "outputs": [],
   "source": [
    "# Using while,for,else and if loops\n",
    "num_start = int(input(\"Start from: \"));num_en= int(input(\"End at: \"))\n",
    "while num_start<0 or num_en==0 or num_en<0:\n",
    "    print(\"Wrong input\");print(\"Try again!\")\n",
    "    num_start = input(\"Start form: \");num_end= input(\"Ends at: \")\n",
    "num_end=num_en+1\n",
    "count=0\n",
    "numbers= []\n",
    "for i in range(num_start,num_end):\n",
    "    if  i%3==0 or i%2==0 :\n",
    "        continue\n",
    "        count+=1\n",
    "        numbers.append(i)\n",
    "print(count,\"numbers found, they are\",numbers)\n"
   ]
  },
  {
   "cell_type": "code",
   "execution_count": null,
   "metadata": {},
   "outputs": [],
   "source": [
    "print(2%3)"
   ]
  },
  {
   "cell_type": "markdown",
   "metadata": {},
   "source": [
    "### Working with Arrays"
   ]
  },
  {
   "cell_type": "code",
   "execution_count": null,
   "metadata": {},
   "outputs": [],
   "source": [
    "from array import *\n",
    "\n",
    "Eg_array = array(\"i\",[10,22,59,20])\n",
    "print(Eg_array[3])"
   ]
  },
  {
   "cell_type": "markdown",
   "metadata": {},
   "source": [
    "### Using the \"Append\" function"
   ]
  },
  {
   "cell_type": "code",
   "execution_count": null,
   "metadata": {},
   "outputs": [],
   "source": [
    "from array import *\n",
    "# Appending 100 and 200 into the Eg_array above\n",
    "Eg_array = array(\"i\",[10,22,59,20])\n",
    "Eg_array.append(100)\n",
    "Eg_array.append(200)\n",
    "print(Eg_array)"
   ]
  },
  {
   "cell_type": "markdown",
   "metadata": {},
   "source": [
    "### Using the \"insert\" function"
   ]
  },
  {
   "cell_type": "code",
   "execution_count": null,
   "metadata": {},
   "outputs": [],
   "source": [
    "from array import *\n",
    "# Inserting 500 and 600 into the Eg_array above\n",
    "Eg_array = array(\"i\",[10,22,59,20])\n",
    "Eg_array.insert(4,500)\n",
    "Eg_array.insert(5,600)\n",
    "print(Eg_array)"
   ]
  },
  {
   "cell_type": "markdown",
   "metadata": {},
   "source": [
    "### Using the \"extend\" function"
   ]
  },
  {
   "cell_type": "code",
   "execution_count": null,
   "metadata": {},
   "outputs": [],
   "source": [
    "from array import *\n",
    "# Extending Eg_array with 300, 400 and 700\n",
    "Eg_array = array(\"i\",[10,22,59,20])\n",
    "Values = array(\"i\",[300,400,700])\n",
    "Eg_array.extend(Values)\n",
    "print(Eg_array)\n",
    "\n",
    "Series = [\"Shadow\",\"Bone\",\"And\"]\n",
    "Ep = [1,2,3,4]\n",
    "Series.extend(Ep)\n",
    "print(Series)"
   ]
  },
  {
   "cell_type": "markdown",
   "metadata": {},
   "source": [
    "### Using the \"fromlist\" function"
   ]
  },
  {
   "cell_type": "code",
   "execution_count": null,
   "metadata": {},
   "outputs": [],
   "source": [
    "from array import *\n",
    "\n",
    "Eg_array = array(\"i\",[10,22,59,20])\n",
    "Values = [300,400,700]\n",
    "Eg_array.fromlist(Values)\n",
    "\n",
    "Series = array(\"i\",[8,7,10,22])\n",
    "Ep = [1,2,3,4]\n",
    "Series.fromlist(Ep)\n",
    "print(Series)"
   ]
  },
  {
   "cell_type": "markdown",
   "metadata": {},
   "source": [
    "### Using the \"remove\" function"
   ]
  },
  {
   "cell_type": "code",
   "execution_count": null,
   "metadata": {},
   "outputs": [],
   "source": [
    "from array import *\n",
    "\n",
    "Eg_array = array(\"i\",[10,22,59,20])\n",
    "Values = [300,400,700]\n",
    "Eg_array.remove(10)  # removing 10 from the \"Eg_array\" array\n",
    "print(Eg_array)\n",
    "\n",
    "Ep = [1,2,3,4]\n",
    "Ep.remove(2)  # removing 2 from the \"Ep\" list\n",
    "print(Ep)"
   ]
  },
  {
   "cell_type": "markdown",
   "metadata": {},
   "source": [
    "### Using the \"pop\" function"
   ]
  },
  {
   "cell_type": "code",
   "execution_count": null,
   "metadata": {},
   "outputs": [],
   "source": [
    "from array import *\n",
    "\n",
    "Eg_array = array(\"i\",[10,22,59,20])\n",
    "Eg_array.pop()\n",
    "print(Eg_array)\n"
   ]
  },
  {
   "cell_type": "markdown",
   "metadata": {},
   "source": [
    "### Using the \"index\" function"
   ]
  },
  {
   "cell_type": "code",
   "execution_count": null,
   "metadata": {},
   "outputs": [],
   "source": [
    "from array import *\n",
    "\n",
    "Eg_array = array(\"i\",[10,22,59,20])\n",
    "print(Eg_array.index(22)) # Indexing 22 in \"Eg_array\" array\n",
    "print(Eg_array.index(20)) # Indexing 20 in \"Eg_array\" array\n",
    "\n",
    "Ep = [1,2,3,4]\n",
    "print(Ep.index(3)) # Indexing 3 in list \"Ep\"\n"
   ]
  },
  {
   "cell_type": "markdown",
   "metadata": {},
   "source": [
    "### Using the \"reverse\" function"
   ]
  },
  {
   "cell_type": "code",
   "execution_count": null,
   "metadata": {},
   "outputs": [],
   "source": [
    "from array import *\n",
    "Eg_array = array(\"i\",[10,22,59,20])\n",
    "Eg_array.reverse()  # Reversing the \"Eg_array\" array\n",
    "print(Eg_array)\n",
    "\n",
    "Ep = [1,2,3,4]\n",
    "Ep.reverse()  # Reversing the \"Ep\" list\n",
    "print(Ep)\n"
   ]
  },
  {
   "cell_type": "markdown",
   "metadata": {},
   "source": [
    "### Using the \"count\" function"
   ]
  },
  {
   "cell_type": "code",
   "execution_count": null,
   "metadata": {},
   "outputs": [],
   "source": [
    "from array import *\n",
    "Eg_array = array(\"i\",[10,22,10,20,10,20,59,20,59])\n",
    "print(Eg_array.count(22))\n",
    "print(Eg_array.count(59))\n",
    "print(Eg_array.count(20))\n"
   ]
  },
  {
   "cell_type": "markdown",
   "metadata": {},
   "source": [
    "### Multidimensional arrays"
   ]
  },
  {
   "cell_type": "code",
   "execution_count": null,
   "metadata": {},
   "outputs": [],
   "source": [
    "Values = [[5,10,15],[20,25,30,35],[40,45,50,55,60]]\n",
    "print(Values)\n",
    "print(Values[0])\n",
    "print(Values[1])\n",
    "print(Values[2])\n",
    "print(Values[0][1])\n",
    "print(Values[1][3])\n",
    "print(Values[2][2])\n"
   ]
  },
  {
   "cell_type": "markdown",
   "metadata": {},
   "source": [
    "### Funcions"
   ]
  },
  {
   "cell_type": "code",
   "execution_count": null,
   "metadata": {},
   "outputs": [],
   "source": [
    "# Defining a function with no argument\n",
    "\n",
    "def names():\n",
    "    J = \"Justice\"; N= \"Nyame\"; E= \"Ernest\"; C= \"Collins\"\n",
    "    print(\"These are names\")\n",
    "    print(J);print(N);print(E);print(C)\n",
    "\n",
    "names()"
   ]
  },
  {
   "cell_type": "code",
   "execution_count": null,
   "metadata": {},
   "outputs": [],
   "source": [
    "# Defining a function with argument\n",
    "\n",
    "def my_function(MySelf):\n",
    "    print(\"My name is Justice Nyame. I'm currently in Petroleum 2\")\n",
    "my_function(0)"
   ]
  },
  {
   "cell_type": "code",
   "execution_count": null,
   "metadata": {},
   "outputs": [],
   "source": [
    "def square(x,i):\n",
    "    return x+i\n",
    "\n",
    "square(\"What\",\" is this\")"
   ]
  },
  {
   "cell_type": "markdown",
   "metadata": {},
   "source": [
    "### Defining a function with more than one arguments"
   ]
  },
  {
   "cell_type": "code",
   "execution_count": null,
   "metadata": {},
   "outputs": [],
   "source": [
    "# *args will output the square of even numbers between 1 and 10\n",
    "def My_args(*args):\n",
    "    for i in args:\n",
    "        print(i**2)\n",
    "\n",
    "My_args(2,4,6,8)"
   ]
  },
  {
   "cell_type": "code",
   "execution_count": null,
   "metadata": {},
   "outputs": [],
   "source": [
    "# \"Name_Age\" will output the name and age of some people\n",
    "def Name_Age(**Name_Age):\n",
    "    for name,age in Name_Age.items():\n",
    "        print(name,\":\",age)\n",
    "Name_Age(Justice=23, Nyame=35, Collins=27)"
   ]
  },
  {
   "cell_type": "markdown",
   "metadata": {},
   "source": [
    "### Lambda(Inline or Anonymous) Function"
   ]
  },
  {
   "cell_type": "code",
   "execution_count": null,
   "metadata": {},
   "outputs": [],
   "source": [
    "# This function \"yourname\" output \"What is your name\"\n",
    "def yourname1():\n",
    "    print(\"What is your first name\")\n",
    "yourname1()\n",
    "\n",
    "# Using the lambda function to do similar as above\n",
    "yourname2 = lambda : \"What is your middle name\"\n",
    "print(yourname2())\n",
    "\n",
    "# lambda can also take arguments\n",
    "yourname3 = lambda name: name\n",
    "print(yourname3(\"What is your last name\"))\n",
    "\n",
    "# More example. num will output Cube root of 4\n",
    "num = lambda a: a**3\n",
    "print(num(4))\n"
   ]
  },
  {
   "cell_type": "markdown",
   "metadata": {},
   "source": [
    "### Returning values from functions"
   ]
  },
  {
   "cell_type": "code",
   "execution_count": null,
   "metadata": {},
   "outputs": [],
   "source": [
    "# This \"my_phone_number\" function will return the number 233596021383\n",
    "def my_phone_number():\n",
    "    return 233596021383\n",
    "my_phone_number()\n"
   ]
  },
  {
   "cell_type": "code",
   "execution_count": null,
   "metadata": {},
   "outputs": [],
   "source": [
    "# Assigning the function \"my_phone_number\" to a variable\n",
    "phone_number= my_phone_number()\n",
    "print(phone_number)"
   ]
  },
  {
   "cell_type": "code",
   "execution_count": null,
   "metadata": {},
   "outputs": [],
   "source": [
    "# Using the function to do some operations\n",
    "print(my_phone_number()+2)\n",
    "print(my_phone_number()-2)"
   ]
  },
  {
   "cell_type": "code",
   "execution_count": null,
   "metadata": {},
   "outputs": [],
   "source": [
    "# Here only \"Ak-507-1074\" will be printed out (After the \"return\",subsequent statements won't be executed)\n",
    "def address():\n",
    "    return \"Ak-507-1074\"\n",
    "    address= 99\n",
    "address()"
   ]
  },
  {
   "cell_type": "code",
   "execution_count": null,
   "metadata": {},
   "outputs": [],
   "source": [
    "# The \"square_root\" function will output the square root of 4,9,16,25,36,49\n",
    "import math\n",
    "def square_root():\n",
    "    return [4,9,16,25,36,49]\n",
    "for i in square_root():\n",
    "    print(round(math.sqrt(i)))"
   ]
  },
  {
   "cell_type": "markdown",
   "metadata": {},
   "source": [
    "# Data Visualizsation"
   ]
  },
  {
   "cell_type": "markdown",
   "metadata": {},
   "source": [
    "### Vectors"
   ]
  },
  {
   "cell_type": "code",
   "execution_count": null,
   "metadata": {},
   "outputs": [],
   "source": [
    "# Converting a list or tuple into an array using np.array\n",
    "import numpy as np\n",
    "List_1 = np.array([2.5,4.5,6.5,8.5,10.5]) # a list\n",
    "print(List_1)\n"
   ]
  },
  {
   "cell_type": "code",
   "execution_count": null,
   "metadata": {},
   "outputs": [],
   "source": [
    "# Creation of a vector using ArrayRange(\"arange\")\n",
    "List_2 = np.arange(2.5,11,2)\n",
    "print(List_2)"
   ]
  },
  {
   "cell_type": "code",
   "execution_count": null,
   "metadata": {},
   "outputs": [],
   "source": [
    "# Creation of a vector with five(5) zeros\n",
    "a = np.zeros(5)\n",
    "print(a)\n"
   ]
  },
  {
   "cell_type": "code",
   "execution_count": null,
   "metadata": {},
   "outputs": [],
   "source": [
    "print(a)\n",
    "a[1] = 1.5\n",
    "a[2] = 2.5\n",
    "a[4] = 4.5\n",
    "print(a+0.5)\n",
    "print(a[0]+0.5)\n",
    "print(a[3]+3.5)\n",
    "print(a*10)\n",
    "print(a**2)\n",
    "print(np.cos(a))"
   ]
  },
  {
   "cell_type": "markdown",
   "metadata": {},
   "source": [
    "### Matrices\n"
   ]
  },
  {
   "cell_type": "code",
   "execution_count": null,
   "metadata": {},
   "outputs": [],
   "source": [
    "# Creating a matrix with two rows and three columns\n",
    "import numpy as np\n",
    "\n",
    "m = np.array([[2,4,6],[8,10,12]])\n",
    "print(m)\n",
    "\n",
    "# Using the zeros method to create a matrix with 3 rows and 3 columns\n",
    "g = np.zeros((3,3))\n",
    "print(g)\n",
    "\n",
    "\n",
    "# Using the zero method to create a matrix with 3 rows and 3 columns\n",
    "n = np.array([[1,2,3],[4,5,6],[7,8,9]])\n",
    "print(n)\n",
    "\n",
    "# Displaying all even numbers from the matrix\n",
    "\n",
    "print(n[0,1])\n",
    "print(n[1,0])\n",
    "print(n[1,2])\n",
    "print(n[2,1])\n",
    "\n",
    "# The odd numbers are;\n",
    "\n",
    "print(n[0,0])\n",
    "print(n[0,2])\n",
    "print(n[1,1])\n",
    "print(n[2,0])\n",
    "print(n[2,2])"
   ]
  },
  {
   "cell_type": "markdown",
   "metadata": {},
   "source": [
    "## Standard Linear Algebra Operations"
   ]
  },
  {
   "cell_type": "markdown",
   "metadata": {},
   "source": [
    "### Matrix multiplication"
   ]
  },
  {
   "cell_type": "code",
   "execution_count": null,
   "metadata": {},
   "outputs": [],
   "source": [
    "import numpy as np\n",
    "import numpy.random\n",
    "X = np.random.rand(4,3) # Generating a random 4 by 3 matrix\n",
    "A = np.random.rand(3)  # Generating a 3 dimensional random vector \n",
    "C = np.dot(X,A)\n",
    "print(X)\n",
    "print(A)\n",
    "print(C)\n",
    "\n",
    "# Using specified numbers\n",
    "\n",
    "Ma = np.array([[2,5,1,0],[9,1,0,2]])\n",
    "Mb = np.array([3,1,8,7])\n",
    "Mc = np.array([[6,3,7,4],[0,8,2,6]])\n",
    "Md = np.add(Ma,Mc)\n",
    "print(Md)\n",
    "Me = np.dot(Ma,Mb)\n",
    "print(Me)\n",
    "Mf = np.dot(Mc,Mb)\n",
    "print(Mf)\n"
   ]
  },
  {
   "cell_type": "markdown",
   "metadata": {},
   "source": [
    "### Solving systems of linear equations"
   ]
  },
  {
   "cell_type": "code",
   "execution_count": null,
   "metadata": {},
   "outputs": [],
   "source": [
    "import numpy.linalg as LA\n",
    "\n",
    "Ma = np.array([[2,5,1],[9,1,2],[8,2,6]])\n",
    "Mb = np.array([3,8,7])\n",
    "a = LA.solve(Ma,Mb)\n",
    "print(a)\n",
    "c = LA.solve(Ma,a)\n",
    "print(c)"
   ]
  },
  {
   "cell_type": "markdown",
   "metadata": {},
   "source": [
    "### Eigenvectors and eigenvalues of a matrix calculation"
   ]
  },
  {
   "cell_type": "code",
   "execution_count": null,
   "metadata": {
    "scrolled": true
   },
   "outputs": [],
   "source": [
    "import numpy as np\n",
    "import numpy.linalg as LA\n",
    "\n",
    "Ma = np.array([[2,5,1],[9,1,2],[8,2,6]])\n",
    "Mb = np.array([3,8,7])\n",
    "evalues,evectors = LA.eig(Ma) # Computing the eigenvalues and eigenvectors\n",
    "print(evalues)\n",
    "print(evectors)\n",
    "\n",
    "A = np.eye(4) # Generating 4x4 diagonal matrix\n",
    "print(A)\n",
    "evalues,evectors = LA.eig(A) \n",
    "print(evectors)\n",
    "print(evalues)\n"
   ]
  },
  {
   "cell_type": "markdown",
   "metadata": {},
   "source": [
    "## Matplotlib And Pylab"
   ]
  },
  {
   "cell_type": "code",
   "execution_count": null,
   "metadata": {},
   "outputs": [],
   "source": [
    "# Importing pylab for plotting\n",
    "import pylab\n",
    "import numpy as np\n",
    "# Plotting the sin of numbers from 1 to 10 with a step size of 1 using pylab\n",
    "a = np.arange(1,10,1)\n",
    "b = np.sin(a)\n",
    "pylab.plot(a,b)\n",
    "pylab.show()"
   ]
  },
  {
   "cell_type": "code",
   "execution_count": null,
   "metadata": {},
   "outputs": [],
   "source": [
    "# Importing pylab as p for plotting\n",
    "import pylab as p\n",
    "# Plotting the cos of numbers from 1 to 10 with a step size of 1 using pylab\n",
    "a = np.arange(1,10,1)\n",
    "b = np.cos(a)\n",
    "p.plot(a,b)\n",
    "p.show()"
   ]
  },
  {
   "cell_type": "code",
   "execution_count": null,
   "metadata": {},
   "outputs": [],
   "source": [
    "# Different way to import pylab and numpy\n",
    "from pylab import *\n",
    "x = arange(2,10,1)\n",
    "print(x)\n",
    "y = tan(x)\n",
    "print(y)\n",
    "pl.plot(x,y,\"-r\",marker=\"x\",)"
   ]
  },
  {
   "cell_type": "markdown",
   "metadata": {},
   "source": [
    "### Saving the figure as a file"
   ]
  },
  {
   "cell_type": "code",
   "execution_count": null,
   "metadata": {},
   "outputs": [],
   "source": [
    "# Saving the file above using the pylab interface\n",
    "from pylab import *\n",
    "a = np.arange(1,10,1)\n",
    "b = np.sin(a)\n",
    "pylab.plot(a,b, label='sin(a)')\n",
    "pylab.xlabel(\"a\")\n",
    "pylab.ylabel(\"sin(a)\")\n",
    "pylab.savefig(\"pylab_plot.png\") # Saving it as a png file\n",
    "pylab.savefig(\"pylab_plot.pdf\") # Saving it as a pdf file\n",
    "pylab.savefig(\"pylab_plot.jpeg\") # Saving it as a jpeg file\n",
    "pylab.savefig(\"pylab_plot.jpg\") # Saving it as a jpg file\n",
    "pylab.savefig(\"pylab_plot.eps\") # Saving it as a eps file\n",
    "pylab.savefig(\"pylab_plot.svg\") # Saving it as a svg file\n",
    "pylab.close() # Closing(without showing the figure) it"
   ]
  },
  {
   "cell_type": "code",
   "execution_count": null,
   "metadata": {},
   "outputs": [],
   "source": [
    "# Saving it using the pyplot interface(\"plt.savefig\")\n",
    "import matplotlib.pyplot as plt\n",
    "import numpy as np\n",
    "a = np.arange(1,10,1)\n",
    "b = np.sin(a)\n",
    "plt.plot(a,b, label='sin(a)')\n",
    "plt.xlabel(\"a\")\n",
    "plt.ylabel(\"sin(a)\")\n",
    "plt.savefig(\"pylab_plot.png\") # Saving it as a png file\n",
    "plt.savefig(\"pylab_plot.pdf\") # Saving it as a pdf file\n",
    "plt.savefig(\"pylab_plot.jpeg\") # Saving it as a jpeg file\n",
    "plt.savefig(\"pylab_plot.jpg\") # Saving it as a jpg file\n",
    "plt.savefig(\"pylab_plot.eps\") # Saving it as a eps file\n",
    "plt.savefig(\"pylab_plot.svg\") # Saving it as a svg file\n",
    "plt.close() # Closing(without showing the figure) it"
   ]
  },
  {
   "cell_type": "code",
   "execution_count": null,
   "metadata": {},
   "outputs": [],
   "source": [
    "# Different way of saving it using the pyplot interface(\"fig.savefig\")\n",
    "import matplotlib.pyplot as plt\n",
    "import numpy as np\n",
    "a = np.arange(1,10,1)\n",
    "b = np.sin(a)\n",
    "plt.plot(a,b, label='sin(a)')\n",
    "plt.xlabel(\"a\")\n",
    "plt.ylabel(\"sin(a)\")\n",
    "fig.savefig(\"pylab_plot.png\") # Saving it as a png file\n",
    "fig.savefig(\"pylab_plot.pdf\") # Saving it as a pdf file\n",
    "fig.savefig(\"pylab_plot.jpeg\") # Saving it as a jpeg file\n",
    "fig.savefig(\"pylab_plot.jpg\") # Saving it as a jpg file\n",
    "fig.savefig(\"pylab_plot.eps\") # Saving it as a eps file\n",
    "fig.savefig(\"pylab_plot.svg\") # Saving it as a svg file\n",
    "fig.close() # Closing(without showing the figure) it"
   ]
  },
  {
   "cell_type": "code",
   "execution_count": null,
   "metadata": {},
   "outputs": [],
   "source": [
    "# Creation of a matrix from two vectors\n",
    "import numpy as np\n",
    "a = np.arange(0,2,0.5)\n",
    "print(a)\n",
    "b = np.arange(2,4,0.5)\n",
    "c = np.array([[a],[b]])\n",
    "print(c)"
   ]
  },
  {
   "cell_type": "markdown",
   "metadata": {},
   "source": [
    "### More on styles"
   ]
  },
  {
   "cell_type": "code",
   "execution_count": null,
   "metadata": {},
   "outputs": [],
   "source": [
    "import numpy as np\n",
    "import pylab as pl\n",
    "age = np.arange(1,10,1)\n",
    "s = np.sin(age)\n",
    "c = np.cos(age)\n",
    "t = np.tan(a)\n",
    "\n",
    "pl.figure(figsize=(10,10))\n",
    "pl.plot(age,s,\"-b\",marker=\"*\",label=\"Sin\",linewidth=5,alpha=1)\n",
    "plt.plot(age,c,marker=\".\",c=\"r\",label=\"Cos\",linewidth=5)\n",
    "plt.plot(age,t,marker=\"x\",c=\"g\",label=\"Tan\",linewidth=5)\n",
    "pl.xlabel(\"Age\")\n",
    "pl.ylabel(\"Trignometric function\")\n",
    "pl.title(\"Graph of age against it's trignometric function\")\n",
    "plt.legend(loc=\"upper right\")\n",
    "pl.grid()"
   ]
  },
  {
   "cell_type": "markdown",
   "metadata": {},
   "source": [
    "### Plotting multiple curves"
   ]
  },
  {
   "cell_type": "code",
   "execution_count": null,
   "metadata": {},
   "outputs": [],
   "source": [
    "# Displaying three graphs on the same row(side by side)\n",
    "import numpy as np\n",
    "import pylab as pl\n",
    "age = np.arange(1,10,1)\n",
    "s = np.sin(age)\n",
    "c = np.cos(age)\n",
    "t = np.tan(a)\n",
    "\n",
    "pl.figure(figsize=(10,5))\n",
    "pl.subplot(1,3,1)\n",
    "pl.plot(age,s,\"-x\",c=\"b\")\n",
    "pl.xlabel(\"Age\")\n",
    "pl.ylabel(\"Sin(age)\")\n",
    "pl.grid()\n",
    "pl.tight_layout(pad=7)\n",
    "pl.subplot(1,3,2)\n",
    "pl.plot(age,c,\"x-\",c=\"r\")\n",
    "pl.xlabel(\"Age\")\n",
    "pl.ylabel(\"Cos(age)\")\n",
    "pl.grid()\n",
    "pl.subplot(1,3,3)\n",
    "pl.plot(age,t,\"-x\",c=\"g\")\n",
    "pl.xlabel(\"Age\")\n",
    "pl.ylabel(\"Tan(age)\")\n",
    "pl.grid()"
   ]
  },
  {
   "cell_type": "code",
   "execution_count": null,
   "metadata": {},
   "outputs": [],
   "source": [
    "# Displaying three graphs on the same column\n",
    "import numpy as np\n",
    "import pylab as pl\n",
    "age = np.arange(1,10,1)\n",
    "s = np.sin(age)\n",
    "c = np.cos(age)\n",
    "t = np.tan(a)\n",
    "\n",
    "pl.figure(figsize=(10,10))\n",
    "pl.subplot(3,1,1)\n",
    "pl.plot(age,s,\"-x\",c=\"b\")\n",
    "pl.xlabel(\"Age\")\n",
    "pl.ylabel(\"Sin(age)\")\n",
    "pl.grid()\n",
    "pl.subplot(3,1,2)\n",
    "pl.plot(age,c,\"x-\",c=\"r\")\n",
    "pl.xlabel(\"Age\")\n",
    "pl.ylabel(\"Cos(age)\")\n",
    "pl.grid()\n",
    "pl.subplot(3,1,3)\n",
    "pl.plot(age,t,\"-x\",c=\"g\")\n",
    "pl.xlabel(\"Age\")\n",
    "pl.ylabel(\"Tan(age)\")\n",
    "pl.grid()"
   ]
  },
  {
   "cell_type": "code",
   "execution_count": null,
   "metadata": {},
   "outputs": [],
   "source": [
    "# Plotting two seperate graphs\n",
    "x = pl.arange(1,26,1)\n",
    "pl.figure(1)\n",
    "pl.plot(x,\"o\")\n",
    "pl.xlabel(\"x axis\")\n",
    "pl.ylabel(\"y axis\")\n",
    "\n",
    "pl.figure(2)\n",
    "pl.plot(range(25),\"x\")\n",
    "pl.xlabel(\"x axis\")\n",
    "pl.ylabel(\"y axis\")"
   ]
  },
  {
   "cell_type": "markdown",
   "metadata": {},
   "source": [
    "### The recommended way of using the the matplotlib.pyplot interface"
   ]
  },
  {
   "cell_type": "code",
   "execution_count": null,
   "metadata": {},
   "outputs": [],
   "source": [
    "# Plotting a simple graph\n",
    "import numpy as np\n",
    "import matplotlib.pyplot as plt\n",
    "Age = np.linspace(0, 10, 20)\n",
    "b = cos(a)\n",
    "fig, jn = plt.subplots() # Creating the figure\n",
    "jn.plot(a,b,\"-r\")\n",
    "jn.set_title(\"Simple plot\")\n",
    "jn.set_xlabel(\"Age\")\n",
    "jn.set_ylabel(\"Cos(Age)\")"
   ]
  },
  {
   "cell_type": "code",
   "execution_count": null,
   "metadata": {},
   "outputs": [],
   "source": [
    "# Plotting a graph with more details\n",
    "import numpy as np\n",
    "import matplotlib.pyplot as plt\n",
    "Age = np.linspace(0, 10, 20)\n",
    "b = cos(Age)\n",
    "c = sin(Age)\n",
    "fig, (jn) = plt.subplots(figsize=(10,5)) # Creating the figure\n",
    "jn.plot(a,b,\"-b\",marker=\".\",linewidth=4,alpha=0.8,label=\"cos(Age)\")\n",
    "jn.plot(a,c,\"-r\",marker=\".\",linewidth=4,alpha=0.8,label=\"sin(Age)\")\n",
    "jn.grid(True)\n",
    "jn.set_xlabel(\"Age\")\n",
    "jn.set_ylabel(\"Cos(Age)\")\n",
    "jn.set_title(\"Age versus Cosine of Age\")\n",
    "jn.legend(loc=\"upper right\")\n",
    "fig.savefig(\"figureplot.jpeg\")\n",
    "fig.savefig(\"figureplot.pdf\")\n",
    "plt.close()"
   ]
  },
  {
   "cell_type": "markdown",
   "metadata": {},
   "source": [
    "### Histogram"
   ]
  },
  {
   "cell_type": "code",
   "execution_count": null,
   "metadata": {},
   "outputs": [],
   "source": [
    "import matplotlib.pyplot as plt\n",
    "import numpy as np\n",
    "import scipy.stats\n",
    "mu, sigma = 100,15\n",
    "x = mu + sigma*np.random.randn(10)\n",
    "# Creating the figure and axes objects\n",
    "fig, jn = plt.subplots()\n",
    "\n",
    "# The histogram data\n",
    "n,bin,patches = jn.hist(x,50, density=1, facecolor=\"green\")\n",
    "\n",
    "# Adding a \"best fit\" line\n",
    "y = scipy.stats.norm.pdf(bins,mu,sigma)\n",
    "l = jn.plot(bins,y,\"r--\",linewidth=1)\n",
    "\n",
    "# Annotating the plot\n",
    "jn.set_xlabel(\"Smarts\")\n",
    "jn.set_ylabel(\"$\\Pro\\Probability$\")\n",
    "jn.set_title(r'Histogram of IQ: $\\mu=100$, $\\sigma=15$')\n",
    "jn.axis([40,160,0,0.03])\n",
    "jn.grid(True)"
   ]
  },
  {
   "cell_type": "code",
   "execution_count": null,
   "metadata": {},
   "outputs": [],
   "source": [
    "import numpy as np\n",
    "import matplotlib.pyplot as plt\n",
    "x = np.random.rand(50)\n",
    "\n",
    "y = np.arange(10,100,10)\n",
    "\n",
    "plt.hist(y,4)\n"
   ]
  },
  {
   "cell_type": "markdown",
   "metadata": {},
   "source": [
    "# Symbolic Computation(Sympy)"
   ]
  },
  {
   "cell_type": "code",
   "execution_count": null,
   "metadata": {},
   "outputs": [],
   "source": [
    "# calling init_printing \n",
    "import sympy as sy\n",
    "sy.init_printing(use_latex=\"mathjax\")"
   ]
  },
  {
   "cell_type": "markdown",
   "metadata": {},
   "source": [
    "### Symbols"
   ]
  },
  {
   "cell_type": "code",
   "execution_count": null,
   "metadata": {},
   "outputs": [],
   "source": [
    "import sympy as sy\n",
    "from sympy import symbols as sym\n",
    "sy.init_printing(use_latex=\"mathjax\")\n",
    "x = sym(\"x\")\n",
    "print(type(x))\n",
    "y = sym(\"y\")\n",
    "b = x - y\n",
    "print(b)\n",
    "2*x+3*y-5"
   ]
  },
  {
   "cell_type": "code",
   "execution_count": null,
   "metadata": {},
   "outputs": [],
   "source": [
    "x,y,z = sy.symbols(\"x,y,z\")\n",
    "num = (2*x-3*y+6*z).subs(x,y)\n",
    "print(num)\n",
    "c=(10*x-3*y+5*z).subs(y,4)\n",
    "print(c)\n",
    "d=(10*x-3*y+5*z).subs(x,5).subs(y,2)\n",
    "d.subs(z,10)\n",
    "print(d)\n",
    "num = (2*x-3*y+6*z)\n",
    "print(num)\n",
    "num.subs(x,10)"
   ]
  },
  {
   "cell_type": "markdown",
   "metadata": {},
   "source": [
    "### Differentiation"
   ]
  },
  {
   "cell_type": "code",
   "execution_count": null,
   "metadata": {},
   "outputs": [],
   "source": [
    "import sympy as sy\n",
    "from sympy import symbols as sym\n",
    "from sympy import exp,diff,sqrt,sin,cos,tan\n",
    "x,y,z = sy.symbols(\"x,y,z\")\n",
    "a = 3*x**2+2*y+6*z**3\n",
    "b = 7*x+y**3-5*z**2\n",
    "c = x**3-4*y**2+10*z\n",
    "d=diff(exp(c),x,y,z);print(d)\n",
    "e=diff(exp(a),x,y,z);print(e)\n",
    "f=diff(exp(b),x,y,z);print(f)\n",
    "d=(diff(exp(c),x,y,z)).subs(x,2).subs(y,2).subs(z,10);print(d)\n",
    "e=(diff(exp(a),x,y,z)).subs(x,5).subs(y,7).subs(z,2);print(e)\n",
    "f=(diff(exp(b),x,y,z)).subs(x,6).subs(y,0).subs(z,1);print(f)\n",
    "g=diff(sin(a),x,y,z);print(g)\n",
    "h=diff(cos(b),x,y,z);print(h)\n",
    "i=diff(tan(c),x,y,z);print(i)\n",
    "j=diff(sin(a),x,2,y,2)"
   ]
  },
  {
   "cell_type": "code",
   "execution_count": null,
   "metadata": {},
   "outputs": [],
   "source": [
    "import math\n",
    "import sympy as sy\n",
    "from sympy import symbols as sym,sqrt,diff,sin,cos,exp\n",
    "x,y,z,sigma = sy.symbols(\"x,y,z,σ\")\n",
    "r = sqrt(x**2 + y**2 + sigma**2)\n",
    "b = diff(r,x)\n",
    "def phi(x,y,sigma):\n",
    "    return sqrt(x**2 + y**2 + sigma**2)\n",
    "print(diff(phi(x,y,sigma),x))\n",
    "print(b);print()"
   ]
  },
  {
   "cell_type": "markdown",
   "metadata": {},
   "source": [
    "### Integration"
   ]
  },
  {
   "cell_type": "code",
   "execution_count": null,
   "metadata": {},
   "outputs": [],
   "source": [
    "# Indefinite integral\n",
    "import sympy as sy\n",
    "from sympy import symbols as sym\n",
    "from sympy import exp,diff,sqrt,sin,cos,tan,integrate\n",
    "x,y,z = sym(\"x,y,z\")\n",
    "a = 3*x**2+2*y+6*z**3\n",
    "b = 7*x+y**3-5*z**2\n",
    "c = x**3-4*y**2+10*z\n",
    "print(integrate(a,y,x,z))\n",
    "print(integrate(b,x,y,z))\n",
    "print(integrate(c,z,x,y))\n",
    "print(integrate(exp(x),x,x,y,y,z,z).subs(x,5).subs(y,2).subs(z,10))"
   ]
  },
  {
   "cell_type": "code",
   "execution_count": null,
   "metadata": {},
   "outputs": [],
   "source": [
    "# Definite integral\n",
    "x,y,z = sym(\"x,y,z\")\n",
    "a = 3*x**2+2*y+6*z**3\n",
    "b = 7*x+y**3-5*z**2\n",
    "c = x**3-4*y**2+10*z\n",
    "print(integrate(a,(x,0,4),(y,0,8),(z,0,3)))\n",
    "print(integrate(b,(x,0,4),(y,0,8),(z,0,3)))\n",
    "print(integrate(c,(x,0,4),(y,0,8),(z,0,3)))\n",
    "print(integrate(a,(x,0,4),(y,0,8),(z,0,3)))"
   ]
  },
  {
   "cell_type": "code",
   "execution_count": null,
   "metadata": {},
   "outputs": [],
   "source": []
  },
  {
   "cell_type": "markdown",
   "metadata": {},
   "source": [
    "### Ordinary Differential Equations(ODE)"
   ]
  },
  {
   "cell_type": "code",
   "execution_count": null,
   "metadata": {},
   "outputs": [],
   "source": [
    "# First order ODE\n",
    "# Example 1\n",
    "from sympy import symbols as sym,dsolve,Function,Derivative,Eq\n",
    "y = Function(\"y\")\n",
    "x = sym(\"x\")\n",
    "yf = Derivative(y(x),x)\n",
    "dsolve(yf + 5*y(x)+ 3,y(x))\n"
   ]
  },
  {
   "cell_type": "code",
   "execution_count": null,
   "metadata": {},
   "outputs": [],
   "source": [
    "# Example 2. Using the Eq function\n",
    "# First order ODE\n",
    "from sympy import symbols as sym,dsolve,Function,Derivative,Eq\n",
    "y = Function(\"y\")\n",
    "x = sym(\"x\")\n",
    "yf = Derivative(y(x),x)\n",
    "dsolve(Eq(3*yf + 10*y(x)+ 8,y(x)))"
   ]
  },
  {
   "cell_type": "code",
   "execution_count": null,
   "metadata": {},
   "outputs": [],
   "source": [
    "# Example 1\n",
    "# Second order ODE\n",
    "from sympy import symbols as sym,dsolve,Function,Derivative,Eq\n",
    "y = Function(\"y\")\n",
    "x = sym(\"x\")\n",
    "y2 = Derivative(y(x),x,2)\n",
    "y1 = Derivative(y(x),x)\n",
    "dsolve(2*y2+ 9*y1 + 5*y(x),y(x))"
   ]
  },
  {
   "cell_type": "code",
   "execution_count": null,
   "metadata": {},
   "outputs": [],
   "source": [
    "# Example 2. Using the Eq function\n",
    "# Second order ODE\n",
    "from sympy import symbols as sym,dsolve,Function,Derivative,Eq\n",
    "y = Function(\"y\")\n",
    "x = sym(\"x\")\n",
    "y2 = Derivative(y(x),x,2)\n",
    "y1 = Derivative(y(x),x)\n",
    "dsolve(Eq(2*y2+ 9*y1 + 5*y(x),y(x)))"
   ]
  },
  {
   "cell_type": "code",
   "execution_count": null,
   "metadata": {},
   "outputs": [],
   "source": [
    "from sympy import symbols as sym,dsolve,Function,Derivative,Eq\n",
    "y = Function(\"y\")\n",
    "x,a = sym(\"x,a\")\n",
    "y2 = Derivative(y(x),x,2)\n",
    "y1 = Derivative(y(x),x)\n",
    "dsolve(Eq(2*y2+ a**3*y(x),y(x)))\n",
    "a = sym(\"a\",real=True,positive=True)\n",
    "dsolve(Eq(2*y2+ a**3*y(x),y(x)))"
   ]
  },
  {
   "cell_type": "markdown",
   "metadata": {},
   "source": [
    "### Series Expansion and Plotting"
   ]
  },
  {
   "cell_type": "code",
   "execution_count": null,
   "metadata": {},
   "outputs": [],
   "source": [
    "import sympy as sy\n",
    "from sympy import symbols as sym\n",
    "x = sym(\"x\")\n",
    "tan(x).series(x,0)"
   ]
  },
  {
   "cell_type": "code",
   "execution_count": null,
   "metadata": {},
   "outputs": [],
   "source": [
    "# Different way of using the series function\n",
    "series(tan(x),x,0)"
   ]
  },
  {
   "cell_type": "code",
   "execution_count": null,
   "metadata": {},
   "outputs": [],
   "source": [
    "series(cos(x),x,0.5,10)"
   ]
  },
  {
   "cell_type": "code",
   "execution_count": null,
   "metadata": {},
   "outputs": [],
   "source": [
    "series(cos(x,),x,0.5,10).removeO()"
   ]
  },
  {
   "cell_type": "markdown",
   "metadata": {},
   "source": [
    "### Linear Equations and Matrix Inversion"
   ]
  },
  {
   "cell_type": "code",
   "execution_count": null,
   "metadata": {},
   "outputs": [],
   "source": [
    "import sympy as sy\n",
    "from sympy import symbols as sym,Matrix\n",
    "x,y,z = sym(\"x,y,z\")\n",
    "M = Matrix(([3,9,4],[7,4,1],[6,5,2]))\n",
    "M\n",
    "M.inv() # Inverse of the Matrix M"
   ]
  },
  {
   "cell_type": "code",
   "execution_count": null,
   "metadata": {},
   "outputs": [],
   "source": [
    "B = Matrix(([3*x,6*y,4*z],[x,9*y,2*z],[5*x,y,3*z]))\n",
    "B\n",
    "B.inv()"
   ]
  },
  {
   "cell_type": "code",
   "execution_count": null,
   "metadata": {},
   "outputs": [],
   "source": [
    "g = M.inv()*B\n",
    "g"
   ]
  },
  {
   "cell_type": "code",
   "execution_count": null,
   "metadata": {},
   "outputs": [],
   "source": [
    "g.evalf(3)"
   ]
  },
  {
   "cell_type": "code",
   "execution_count": null,
   "metadata": {},
   "outputs": [],
   "source": [
    "g.subs(x,3.5).subs(y,5).subs(z,7).evalf(3)"
   ]
  },
  {
   "cell_type": "markdown",
   "metadata": {},
   "source": [
    "###### Alternate method "
   ]
  },
  {
   "cell_type": "code",
   "execution_count": null,
   "metadata": {},
   "outputs": [],
   "source": [
    "from sympy import symbols as sym,Matrix,solve_linear_system as sl\n",
    "x,y,z = sym(\"x,y,z\")\n",
    "B= Matrix(([3,6,4*x],[1,9,2*y]))\n",
    "sol = sl(B,x,y)\n",
    "sol"
   ]
  },
  {
   "cell_type": "code",
   "execution_count": null,
   "metadata": {},
   "outputs": [],
   "source": [
    "# Using the Eq function\n",
    "sol = sl((Eq(3*x,6*y,4*z),Eq(4*x,9*y,2*z)),x,y)\n",
    "sol"
   ]
  },
  {
   "cell_type": "code",
   "execution_count": null,
   "metadata": {},
   "outputs": [],
   "source": [
    "from scipy.optimize import bisect\n",
    "def f(x):\n",
    "     \"\"\"returns f(x)=x^3-2x^2. Has roots at\n",
    "     x=0 (double root) and x=2\"\"\"\n",
    "     return x ** 3 - 2 * x ** 2\n",
    "\n",
    "# main program starts here\n",
    "x = bisect(f, 1.5, 3, xtol=1e-6)\n",
    "print(\"The root x is approximately x=%14.12g,\\n\"\n",
    "      \"the error is less than 1e-6.\" % (x))\n",
    "print(\"The exact error is %g.\" % (2 - x))"
   ]
  },
  {
   "cell_type": "code",
   "execution_count": null,
   "metadata": {},
   "outputs": [],
   "source": [
    "%14.12g"
   ]
  },
  {
   "cell_type": "code",
   "execution_count": null,
   "metadata": {},
   "outputs": [],
   "source": []
  },
  {
   "cell_type": "code",
   "execution_count": null,
   "metadata": {},
   "outputs": [],
   "source": []
  },
  {
   "cell_type": "code",
   "execution_count": null,
   "metadata": {},
   "outputs": [],
   "source": []
  }
 ],
 "metadata": {
  "kernelspec": {
   "display_name": "Python 3.9.13 64-bit",
   "language": "python",
   "name": "python3"
  },
  "language_info": {
   "codemirror_mode": {
    "name": "ipython",
    "version": 3
   },
   "file_extension": ".py",
   "mimetype": "text/x-python",
   "name": "python",
   "nbconvert_exporter": "python",
   "pygments_lexer": "ipython3",
   "version": "3.9.13"
  },
  "vscode": {
   "interpreter": {
    "hash": "b6a5af937edf90b6ea0a431ca78a1649d4fdd65c0856556e46d2e6c98e3f7dcc"
   }
  }
 },
 "nbformat": 4,
 "nbformat_minor": 2
}
